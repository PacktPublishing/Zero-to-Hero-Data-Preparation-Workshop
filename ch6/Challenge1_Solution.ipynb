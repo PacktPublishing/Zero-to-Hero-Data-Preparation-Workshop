{
 "cells": [
  {
   "cell_type": "markdown",
   "id": "c4a92558",
   "metadata": {},
   "source": [
    "# Zero To Hero Big Data Prepration\n",
    "Taking Advantage of Cloud Technologies to Create Big Data Solutions\n",
    "    \n",
    "    AUTHOR: Dr. Roy Jafari \n",
    "\n",
    "## Chapter 6: Effectively employing computational and memory resources "
   ]
  },
  {
   "cell_type": "markdown",
   "id": "09de36f1",
   "metadata": {},
   "source": [
    "### Challenge 1: Loop or Map?"
   ]
  },
  {
   "cell_type": "markdown",
   "id": "d4be76c0",
   "metadata": {},
   "source": [
    "- Answer:\n",
    "\n",
    "The first piece of code will have the CPU get some piece of data from the person_df and process it over and over again, and that's not an optimum orchestration. However, the second piece of code, gives what needs to be done to the CPU in form of a function and the CPU only needs to go to the data once, and this will save the CPU a lot of unnecessary moving around of data, and therefore the second piece of code will run faster. \n",
    "\n",
    "The following code uses the Jupyter Notebook `%%time` widget to measure how long it will take."
   ]
  },
  {
   "cell_type": "code",
   "execution_count": 4,
   "id": "fe1ffd6d",
   "metadata": {},
   "outputs": [
    {
     "name": "stdout",
     "output_type": "stream",
     "text": [
      "Wall time: 4.42 s\n"
     ]
    }
   ],
   "source": [
    "%%time\n",
    "import pandas as pd\n",
    "\n",
    "person_df = pd.read_csv('person_df.csv')\n",
    "\n",
    "for i,row in person_df.iterrows():\n",
    "\n",
    "    if(row.Gender == 'M'):\n",
    "        if(row.BMI<20):\n",
    "            person_df.loc[i,'Status'] = 'Underweight'\n",
    "        elif(row.BMI<=25):\n",
    "            person_df.loc[i,'Status'] = 'Healthy'\n",
    "        else:\n",
    "            person_df.loc[i,'Status'] = 'Overweight'\n",
    "            \n",
    "    else:\n",
    "        if(row.BMI<19):\n",
    "            person_df.loc[i,'Status'] = 'Underweight'\n",
    "        elif(row.BMI<=24):\n",
    "            person_df.loc[i,'Status'] = 'Healthy'\n",
    "        else:\n",
    "            person_df.loc[i,'Status'] = 'Overweight'"
   ]
  },
  {
   "cell_type": "code",
   "execution_count": 5,
   "id": "377b6cda",
   "metadata": {},
   "outputs": [
    {
     "name": "stdout",
     "output_type": "stream",
     "text": [
      "Wall time: 72.3 ms\n"
     ]
    }
   ],
   "source": [
    "%%time\n",
    "import pandas as pd\n",
    "\n",
    "person_df = pd.read_csv('person_df.csv')\n",
    "\n",
    "def specifyStatus(gender,bmi):\n",
    "    if(gender == 'M'):\n",
    "        if(bmi<20):\n",
    "            return 'Underweight'\n",
    "        elif(bmi<=25):\n",
    "            return 'Healthy'\n",
    "        else:\n",
    "            return 'Overweight'\n",
    "    else:\n",
    "        if(bmi<19):\n",
    "            return 'Underweight'\n",
    "        elif(bmi<=24):\n",
    "            return 'Healthy'\n",
    "        else:\n",
    "            return 'Overweight'\n",
    "\n",
    "person_df['Status'] = list(\n",
    "    map(specifyStatus,person_df.Gender,person_df.BMI)\n",
    "    )"
   ]
  }
 ],
 "metadata": {
  "kernelspec": {
   "display_name": "Python 3 (ipykernel)",
   "language": "python",
   "name": "python3"
  },
  "language_info": {
   "codemirror_mode": {
    "name": "ipython",
    "version": 3
   },
   "file_extension": ".py",
   "mimetype": "text/x-python",
   "name": "python",
   "nbconvert_exporter": "python",
   "pygments_lexer": "ipython3",
   "version": "3.9.13"
  }
 },
 "nbformat": 4,
 "nbformat_minor": 5
}
